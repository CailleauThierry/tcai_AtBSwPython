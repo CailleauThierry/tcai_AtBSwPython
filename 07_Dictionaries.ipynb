{
 "cells": [
  {
   "cell_type": "code",
   "execution_count": null,
   "metadata": {},
   "outputs": [],
   "source": [
    "# default_exp dictionaries"
   ]
  },
  {
   "cell_type": "markdown",
   "metadata": {},
   "source": [
    "# dictionaries\n",
    "\n",
    "> Note: Going through the basics of dictionaries"
   ]
  },
  {
   "cell_type": "code",
   "execution_count": null,
   "metadata": {},
   "outputs": [],
   "source": [
    "#hide\n",
    "from nbdev.showdoc import *"
   ]
  },
  {
   "cell_type": "markdown",
   "metadata": {},
   "source": [
    "Dictionaries can have multiple data types and are defined by key-value pairs. To each key correspnds a value\n"
   ]
  },
  {
   "cell_type": "code",
   "execution_count": null,
   "metadata": {},
   "outputs": [
    {
     "name": "stdout",
     "output_type": "stream",
     "text": [
      "fat\nMy cat has gray fur.\n"
     ]
    }
   ],
   "source": [
    "myCat = {'size':'fat','color':'gray', 'disposition':'loud'}\n",
    "print(myCat['size'])\n",
    "print('My cat has ' + myCat['color'] + ' fur.')"
   ]
  },
  {
   "cell_type": "markdown",
   "metadata": {},
   "source": [
    "Items in dictionaries do not have orders"
   ]
  },
  {
   "cell_type": "code",
   "execution_count": null,
   "metadata": {},
   "outputs": [
    {
     "data": {
      "text/plain": [
       "False"
      ]
     },
     "execution_count": null,
     "metadata": {},
     "output_type": "execute_result"
    }
   ],
   "source": [
    "[1,2,3] == [3,2,1]\n"
   ]
  },
  {
   "cell_type": "code",
   "execution_count": null,
   "metadata": {},
   "outputs": [
    {
     "data": {
      "text/plain": [
       "True"
      ]
     },
     "execution_count": null,
     "metadata": {},
     "output_type": "execute_result"
    }
   ],
   "source": [
    "myCat = {'size':'fat','color':'gray', 'disposition':'loud'}\n",
    "myDog = {'disposition':'loud','color':'gray', 'size':'fat'}\n",
    "myCat == myDog"
   ]
  },
  {
   "cell_type": "markdown",
   "metadata": {},
   "source": [
    "![](.\\images\\Dictionaries_KeyError_non_existant_key-value_pair.png)\n"
   ]
  },
  {
   "cell_type": "code",
   "execution_count": null,
   "metadata": {},
   "outputs": [
    {
     "data": {
      "text/plain": [
       "True"
      ]
     },
     "execution_count": null,
     "metadata": {},
     "output_type": "execute_result"
    }
   ],
   "source": [
    "'size' in myCat"
   ]
  },
  {
   "cell_type": "code",
   "execution_count": null,
   "metadata": {},
   "outputs": [
    {
     "data": {
      "text/plain": [
       "False"
      ]
     },
     "execution_count": null,
     "metadata": {},
     "output_type": "execute_result"
    }
   ],
   "source": [
    "'size' not in myCat"
   ]
  },
  {
   "cell_type": "code",
   "execution_count": null,
   "metadata": {},
   "outputs": [
    {
     "data": {
      "text/plain": [
       "['size', 'color', 'disposition']"
      ]
     },
     "execution_count": null,
     "metadata": {},
     "output_type": "execute_result"
    }
   ],
   "source": [
    "list(myCat.keys())"
   ]
  },
  {
   "cell_type": "code",
   "execution_count": null,
   "metadata": {},
   "outputs": [
    {
     "data": {
      "text/plain": [
       "['fat', 'gray', 'loud']"
      ]
     },
     "execution_count": null,
     "metadata": {},
     "output_type": "execute_result"
    }
   ],
   "source": [
    "list(myCat.values())"
   ]
  },
  {
   "cell_type": "code",
   "execution_count": null,
   "metadata": {},
   "outputs": [
    {
     "data": {
      "text/plain": [
       "[('size', 'fat'), ('color', 'gray'), ('disposition', 'loud')]"
      ]
     },
     "execution_count": null,
     "metadata": {},
     "output_type": "execute_result"
    }
   ],
   "source": [
    "list(myCat.items()) # this return a list tuple"
   ]
  },
  {
   "cell_type": "code",
   "execution_count": null,
   "metadata": {},
   "outputs": [],
   "source": [
    "tuples are like list only that they are unmutable and are in parenthesis"
   ]
  },
  {
   "cell_type": "markdown",
   "metadata": {},
   "source": []
  },
  {
   "cell_type": "code",
   "execution_count": null,
   "metadata": {},
   "outputs": [
    {
     "data": {
      "text/plain": [
       "dict_keys(['size', 'color', 'disposition'])"
      ]
     },
     "execution_count": null,
     "metadata": {},
     "output_type": "execute_result"
    }
   ],
   "source": [
    "myCat.keys()\n"
   ]
  },
  {
   "cell_type": "code",
   "execution_count": null,
   "metadata": {},
   "outputs": [
    {
     "name": "stdout",
     "output_type": "stream",
     "text": [
      "size\ncolor\ndisposition\n"
     ]
    }
   ],
   "source": [
    "for k in myCat.keys():\n",
    "    print(k)"
   ]
  },
  {
   "cell_type": "code",
   "execution_count": null,
   "metadata": {},
   "outputs": [
    {
     "name": "stdout",
     "output_type": "stream",
     "text": [
      "fat\ngray\nloud\n"
     ]
    }
   ],
   "source": [
    "for v in myCat.values():\n",
    "    print(v)"
   ]
  },
  {
   "cell_type": "code",
   "execution_count": null,
   "metadata": {},
   "outputs": [
    {
     "name": "stdout",
     "output_type": "stream",
     "text": [
      "size fat\ncolor gray\ndisposition loud\n"
     ]
    }
   ],
   "source": [
    "for k, v in myCat.items():\n",
    "    print(k, v)"
   ]
  },
  {
   "cell_type": "code",
   "execution_count": null,
   "metadata": {},
   "outputs": [
    {
     "name": "stdout",
     "output_type": "stream",
     "text": [
      "('size', 'fat')\n('color', 'gray')\n('disposition', 'loud')\n"
     ]
    }
   ],
   "source": [
    "for i in myCat.items():\n",
    "    print(i)"
   ]
  },
  {
   "cell_type": "code",
   "execution_count": null,
   "metadata": {},
   "outputs": [
    {
     "name": "stdout",
     "output_type": "stream",
     "text": [
      "{'size': 'fat', 'color': 'gray', 'disposition': 'loud'}\n"
     ]
    },
    {
     "data": {
      "text/plain": [
       "True"
      ]
     },
     "execution_count": null,
     "metadata": {},
     "output_type": "execute_result"
    }
   ],
   "source": [
    "print(myCat)\n",
    "'gray' in myCat.values()"
   ]
  },
  {
   "cell_type": "code",
   "execution_count": null,
   "metadata": {},
   "outputs": [
    {
     "data": {
      "text/plain": [
       "'gray'"
      ]
     },
     "execution_count": null,
     "metadata": {},
     "output_type": "execute_result"
    }
   ],
   "source": [
    "myCat.get('color',0)"
   ]
  },
  {
   "cell_type": "code",
   "execution_count": null,
   "metadata": {},
   "outputs": [
    {
     "data": {
      "text/plain": [
       "0"
      ]
     },
     "execution_count": null,
     "metadata": {},
     "output_type": "execute_result"
    }
   ],
   "source": [
    "myCat.get('species',0)"
   ]
  },
  {
   "cell_type": "code",
   "execution_count": null,
   "metadata": {},
   "outputs": [
    {
     "name": "stdout",
     "output_type": "stream",
     "text": [
      "I am bringing 0 to the picknic\n"
     ]
    }
   ],
   "source": [
    "picnicItems = {'apples': 5, 'cups':2}\n",
    "print('I am bringing '+ str(picnicItems.get('napkins', 0)) + ' to the picknic')"
   ]
  },
  {
   "cell_type": "code",
   "execution_count": null,
   "metadata": {},
   "outputs": [
    {
     "name": "stdout",
     "output_type": "stream",
     "text": [
      "{'size': 'fat', 'color': 'gray', 'disposition': 'loud'}\n{'size': 'fat', 'color': 'gray', 'disposition': 'loud', 'species': 'feline'}\n"
     ]
    }
   ],
   "source": [
    "print(myCat)\n",
    "if 'species' not in myCat:\n",
    "    myCat['species'] = 'feline'\n",
    "\n",
    "print(myCat)"
   ]
  },
  {
   "cell_type": "code",
   "execution_count": null,
   "metadata": {},
   "outputs": [
    {
     "name": "stdout",
     "output_type": "stream",
     "text": [
      "{'size': 'fat', 'color': 'gray', 'disposition': 'loud', 'species': 'feline'}\n{'size': 'fat', 'color': 'gray', 'disposition': 'loud', 'species': 'feline', 'age': '12'}\n"
     ]
    }
   ],
   "source": [
    "print(myCat)\n",
    "myCat.setdefault('age', '12')\n",
    "print(myCat)"
   ]
  },
  {
   "cell_type": "code",
   "execution_count": null,
   "metadata": {},
   "outputs": [
    {
     "name": "stdout",
     "output_type": "stream",
     "text": [
      "{'size': 'fat', 'color': 'gray', 'disposition': 'loud', 'species': 'feline', 'age': '12'}\n"
     ]
    }
   ],
   "source": [
    "myCat.setdefault('age', '8') # age is already definied, this is unmutable\n",
    "print(myCat)"
   ]
  },
  {
   "cell_type": "code",
   "execution_count": null,
   "metadata": {},
   "outputs": [
    {
     "name": "stdout",
     "output_type": "stream",
     "text": [
      "{'T': 2, 'h': 6, 'i': 7, 's': 4, ' ': 15, 'w': 2, 'a': 6, 'g': 7, 'e': 5, 't': 11, 'n': 5, 'l': 3, 'd': 1, 'r': 3, 'y': 1, 'o': 4, 'u': 3, 'A': 1, 'm': 1, 'B': 1, 'S': 1, 'f': 2}\n"
     ]
    }
   ],
   "source": [
    "message = 'This was getting late at night and Thierry was still going though Automate the Boring Stuff'\n",
    "count = {} # example 'r':12 but empty right now\n",
    "for character in message:\n",
    "    count.setdefault(character, 0)\n",
    "    count[character] = count[character] + 1\n",
    "print(count)"
   ]
  },
  {
   "cell_type": "markdown",
   "metadata": {},
   "source": [
    "For now this program is countign upper and lower case separately"
   ]
  },
  {
   "cell_type": "code",
   "execution_count": null,
   "metadata": {},
   "outputs": [
    {
     "name": "stdout",
     "output_type": "stream",
     "text": [
      "{'T': 13, 'H': 6, 'I': 7, 'S': 5, ' ': 15, 'W': 2, 'A': 7, 'G': 7, 'E': 5, 'N': 5, 'L': 3, 'D': 1, 'R': 3, 'Y': 1, 'O': 4, 'U': 3, 'M': 1, 'B': 1, 'F': 2}\n"
     ]
    }
   ],
   "source": [
    "message = 'This was getting late at night and Thierry was still going though Automate the Boring Stuff'\n",
    "count = {} # example 'r':12 but empty right now\n",
    "for character in message.upper():\n",
    "    count.setdefault(character, 0)\n",
    "    count[character] = count[character] + 1\n",
    "print(count)"
   ]
  },
  {
   "cell_type": "markdown",
   "metadata": {},
   "source": [
    "tp get the result in alphabetical order we are going to import pprint (pretty print)"
   ]
  },
  {
   "cell_type": "code",
   "execution_count": null,
   "metadata": {},
   "outputs": [
    {
     "name": "stdout",
     "output_type": "stream",
     "text": [
      "{' ': 15,\n 'A': 7,\n 'B': 1,\n 'D': 1,\n 'E': 5,\n 'F': 2,\n 'G': 7,\n 'H': 6,\n 'I': 7,\n 'L': 3,\n 'M': 1,\n 'N': 5,\n 'O': 4,\n 'R': 3,\n 'S': 5,\n 'T': 13,\n 'U': 3,\n 'W': 2,\n 'Y': 1}\nspace\n{' ': 15,\n 'A': 7,\n 'B': 1,\n 'D': 1,\n 'E': 5,\n 'F': 2,\n 'G': 7,\n 'H': 6,\n 'I': 7,\n 'L': 3,\n 'M': 1,\n 'N': 5,\n 'O': 4,\n 'R': 3,\n 'S': 5,\n 'T': 13,\n 'U': 3,\n 'W': 2,\n 'Y': 1}\n"
     ]
    }
   ],
   "source": [
    "import pprint\n",
    "message = 'This was getting late at night and Thierry was still going though Automate the Boring Stuff'\n",
    "count = {} # example 'r':12 but empty right now\n",
    "for character in message.upper():\n",
    "    count.setdefault(character, 0)\n",
    "    count[character] = count[character] + 1\n",
    "pprint.pprint(count)\n",
    "print(\"space\")\n",
    "stringFormatted = pprint.pformat(count)\n",
    "print(stringFormatted)"
   ]
  },
  {
   "cell_type": "code",
   "execution_count": null,
   "metadata": {},
   "outputs": [
    {
     "name": "stdout",
     "output_type": "stream",
     "text": [
      "[{'name': 'Zophie', 'age': 7, 'color': 'gray'}, {'name': 'Pooka', 'age': 5, 'color': 'black'}, {'name': 'Fat-tail', 'age': 5, 'color': 'grey'}, {'name': '???', 'age': -1, 'color': 'orange'}]\n"
     ]
    }
   ],
   "source": [
    "cat = {'name': 'Zophie', 'age': 7, 'color':'gray'}\n",
    "allCats = []\n",
    "allCats.append({'name': 'Zophie', 'age': 7, 'color':'gray'})\n",
    "allCats.append({'name': 'Pooka', 'age': 5, 'color':'black'})\n",
    "allCats.append({'name': 'Fat-tail', 'age': 5, 'color':'grey'})\n",
    "allCats.append({'name': '???', 'age': -1, 'color':'orange'})\n",
    "print(allCats)"
   ]
  },
  {
   "cell_type": "markdown",
   "metadata": {},
   "source": [
    "allCats here is a \"data structure, here a list of Dictionaries\"\n",
    "\n",
    "![](.\\images\\Dictionaries_TikTakToe_Board.png)\n"
   ]
  }
 ],
 "metadata": {
  "kernelspec": {
   "display_name": "Python 3.8.5 64-bit (conda)",
   "name": "python385jvsc74a57bd0a707b6ce8c685eb936424fcc3009d4b4b7a52543c4db09380a3fc49186ceb509"
  }
 },
 "nbformat": 4,
 "nbformat_minor": 2
}
