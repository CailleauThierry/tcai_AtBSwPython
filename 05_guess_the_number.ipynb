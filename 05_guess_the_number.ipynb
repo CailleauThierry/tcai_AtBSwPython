{
 "cells": [
  {
   "cell_type": "code",
   "execution_count": null,
   "metadata": {},
   "outputs": [],
   "source": [
    "# default_exp guess_the_number"
   ]
  },
  {
   "cell_type": "markdown",
   "metadata": {},
   "source": [
    "# guess the number\n",
    "\n",
    "> Note: This is a simple guess the number"
   ]
  },
  {
   "cell_type": "code",
   "execution_count": null,
   "metadata": {},
   "outputs": [],
   "source": [
    "#hide\n",
    "from nbdev.showdoc import *"
   ]
  },
  {
   "cell_type": "code",
   "execution_count": 1,
   "metadata": {},
   "outputs": [
    {
     "output_type": "stream",
     "name": "stdout",
     "text": [
      "Hello. What is your name?\n",
      "Well, ThierryI am thinking of a number between 1 and 20.\n",
      "DEBUG: Secret number is 11\n",
      "Take a guess at the number between 1 and 20\n",
      "Your guess is too low\n",
      "Take a guess at the number between 1 and 20\n",
      "Your guess is too high\n",
      "Take a guess at the number between 1 and 20\n",
      "Good job, Thierry! You guessed my number in 3 guesses!\n"
     ]
    }
   ],
   "source": [
    "#export\n",
    "#This is a guess the number game.\n",
    "import random\n",
    "print('Hello. What is your name?')\n",
    "name = input()\n",
    "secretNumber = random.randint(1, 20)\n",
    "print('Well, ' + name + 'I am thinking of a number between 1 and 20.')\n",
    "# Comment-out the \"DEGUG:\" line below before submitting the production code!\n",
    "print('DEBUG: Secret number is ' + str(secretNumber))\n",
    "\n",
    "for guessesTaken in range (1, 7):\n",
    "    \"range (1, 7) means 6 tries to guess the number\"\n",
    "    print('Take a guess at the number between 1 and 20')\n",
    "    # \"input reverts a string so we need to convert it to int\"\n",
    "    guessedNumber = int(input())\n",
    "    if guessedNumber < secretNumber:\n",
    "        print('Your guess is too low')\n",
    "    elif guessedNumber > secretNumber:\n",
    "        print('Your guess is too high')\n",
    "    else:\n",
    "    # This condition is for the correct guess\n",
    "        break\n",
    "\n",
    "if guessedNumber == secretNumber:\n",
    "    print('Good job, ' + name + \"! You guessed my number in \" + str(guessesTaken) + \" guesses!\")\n",
    "else:\n",
    "    print('Nope ' + name + \" the number i was thinking of was \" + str(secretNumber) + \" !\")\n",
    "\n"
   ]
  }
 ],
 "metadata": {
  "kernelspec": {
   "name": "python391jvsc74a57bd0f727a3ef71f8e000ac8e615c9588a9ba2bacd5f4ec63f2919734c7064d9d0e56",
   "display_name": "Python 3.9.1 64-bit"
  },
  "metadata": {
   "interpreter": {
    "hash": "f727a3ef71f8e000ac8e615c9588a9ba2bacd5f4ec63f2919734c7064d9d0e56"
   }
  }
 },
 "nbformat": 4,
 "nbformat_minor": 2
}