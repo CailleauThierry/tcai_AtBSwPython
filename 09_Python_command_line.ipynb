{
 "cells": [
  {
   "cell_type": "code",
   "execution_count": null,
   "metadata": {},
   "outputs": [],
   "source": [
    "# default_exp python_from_cli"
   ]
  },
  {
   "cell_type": "markdown",
   "metadata": {},
   "source": [
    "# Running Python from the Command Line\n",
    "\n",
    "> Note: Getting practicale"
   ]
  },
  {
   "cell_type": "code",
   "execution_count": null,
   "metadata": {},
   "outputs": [],
   "source": [
    "#hide\n",
    "from nbdev.showdoc import *"
   ]
  },
  {
   "cell_type": "markdown",
   "metadata": {},
   "source": [
    "Python can do more than the \"+\" operator for strings\n"
   ]
  },
  {
   "cell_type": "markdown",
   "metadata": {},
   "source": [
    "'That is Alice's cat'  \n",
    "\n",
    "that does not work with single quotes\n",
    "\n",
    "![](.\\images\\Strings_single_quote.png)"
   ]
  },
  {
   "cell_type": "markdown",
   "metadata": {},
   "source": [
    "First line of all python programs should be a shebang line\n",
    "\n"
   ]
  },
  {
   "cell_type": "code",
   "execution_count": null,
   "metadata": {},
   "outputs": [],
   "source": [
    "#export\n",
    "#! python3\n",
    "def hello_world():\n",
    "    print(\"Hello World!\")\n",
    "\n",
    "hello_world()"
   ]
  },
  {
   "cell_type": "markdown",
   "metadata": {},
   "source": [
    "(base) C:\\Users\\tcailleau\\Documents\\Python\\tcai_AtBSwPython\\tcai_AtBSwPython>python python_from_cli.py\n",
    "\n",
    "Hello World!\n",
    "\n",
    "(base) C:\\Users\\tcailleau\\Documents\\Python\\tcai_AtBSwPython\\tcai_AtBSwPython>"
   ]
  },
  {
   "cell_type": "markdown",
   "metadata": {},
   "source": [
    "@python says don't display the whole line, just display the result\n",
    "\n",
    "and %* says to forward any command line arguments to this pyhton program"
   ]
  }
 ],
 "metadata": {
  "kernelspec": {
   "display_name": "Python 3.8.5 64-bit",
   "name": "python385jvsc74a57bd0b3ba2566441a7c06988d0923437866b63cedc61552a5af99d1f4fb67d367b25f"
  }
 },
 "nbformat": 4,
 "nbformat_minor": 2
}
