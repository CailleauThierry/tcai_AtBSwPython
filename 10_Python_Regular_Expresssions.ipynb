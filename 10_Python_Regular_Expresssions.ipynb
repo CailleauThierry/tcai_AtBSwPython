{
 "cells": [
  {
   "cell_type": "code",
   "execution_count": null,
   "metadata": {},
   "outputs": [],
   "source": [
    "# default_exp Regular_Expresssions"
   ]
  },
  {
   "cell_type": "markdown",
   "metadata": {},
   "source": [
    "# Regular Expresssions in Python\n",
    "\n",
    "> Note: The interesting stuff"
   ]
  },
  {
   "cell_type": "code",
   "execution_count": null,
   "metadata": {},
   "outputs": [],
   "source": [
    "#hide\n",
    "from nbdev.showdoc import *"
   ]
  },
  {
   "cell_type": "code",
   "execution_count": null,
   "metadata": {},
   "outputs": [],
   "source": []
  },
  {
   "cell_type": "markdown",
   "metadata": {},
   "source": [
    "First line of all python programs should be a shebang line\n",
    "\n"
   ]
  },
  {
   "cell_type": "markdown",
   "metadata": {},
   "source": [
    "A phone number in the US is 3 digits a - 3 more digies a dash and then 4 digists like:\n",
    "\n",
    "415-555-0000\n",
    "\n",
    "whereas we know this is not a phone number:\n",
    "\n",
    "4,155,550,0000\n",
    "\n"
   ]
  },
  {
   "cell_type": "markdown",
   "metadata": {},
   "source": [
    "Regex are like the advanced search feature in Word\n",
    "\n",
    "![](.\\images\\Word_Regular_Expressions_like_search.png)"
   ]
  },
  {
   "cell_type": "code",
   "execution_count": null,
   "metadata": {},
   "outputs": [
    {
     "name": "stdout",
     "output_type": "stream",
     "text": [
      "True\n"
     ]
    }
   ],
   "source": [
    "#export\n",
    "def isPhoneNumber(text):\n",
    "    if len(text) != 12:\n",
    "        return False # not phone number size\n",
    "    for i in range(0,3):\n",
    "        if not text[i].isdecimal():\n",
    "            return False # no are code\n",
    "    if text[3] != '-':\n",
    "        return False # missing dash\n",
    "    for i in range(4,7):\n",
    "        if not text[i].isdecimal():\n",
    "            return False # no second position 3 digits\n",
    "    if text[7] != '-':\n",
    "        return False # missing dash\n",
    "    for i in range(8,12):\n",
    "        if not text[i].isdecimal():\n",
    "            return False # no third position 4 digits\n",
    "    return True\n",
    "\n",
    "print(isPhoneNumber('415-555-1234'))\n",
    "\n",
    "\n"
   ]
  },
  {
   "cell_type": "markdown",
   "metadata": {},
   "source": [
    "Non-Regex isPhoneNumber True\n",
    "\n",
    "![](.\\images\\Non-Regex_isPhoneNumber_True.png)"
   ]
  },
  {
   "cell_type": "code",
   "execution_count": null,
   "metadata": {},
   "outputs": [
    {
     "name": "stdout",
     "output_type": "stream",
     "text": [
      "False\n"
     ]
    }
   ],
   "source": [
    "print(isPhoneNumber('Hello'))"
   ]
  },
  {
   "cell_type": "markdown",
   "metadata": {},
   "source": [
    "I had done a typo in the message missing 1 digit at the end of each numver and got false\n",
    "\n",
    "![](.\\images\\no_valid_US_number_in_the_message.png)\n"
   ]
  },
  {
   "cell_type": "code",
   "execution_count": null,
   "metadata": {},
   "outputs": [
    {
     "name": "stdout",
     "output_type": "stream",
     "text": [
      "Phone number found: 415-555-1012\nPhone number found: 015-555-9999\n"
     ]
    }
   ],
   "source": [
    "message  = 'Call me at 415-555-1012 tomorrow, or ar 015-555-9999 at the office'\n",
    "foundNumber = False\n",
    "for i in range (len(message)):\n",
    "    chunk = message[i:i+12]\n",
    "    if isPhoneNumber(chunk):\n",
    "        print('Phone number found: '+ chunk)\n",
    "        foundNumber = True\n",
    "if not foundNumber:\n",
    "    print('Could not find a valid US number in the message.')"
   ]
  },
  {
   "cell_type": "code",
   "execution_count": null,
   "metadata": {},
   "outputs": [],
   "source": []
  },
  {
   "cell_type": "code",
   "execution_count": null,
   "metadata": {},
   "outputs": [
    {
     "name": "stdout",
     "output_type": "stream",
     "text": [
      "415-555-1012\n<re.Match object; span=(11, 23), match='415-555-1012'>\n"
     ]
    }
   ],
   "source": [
    "import re\n",
    "message  = 'Call me at 415-555-1012 tomorrow, or ar 015-555-9999 at the office'\n",
    "\n",
    "phoneNumRegex = re.compile(r'\\d\\d\\d-\\d\\d\\d-\\d\\d\\d\\d')\n",
    "#RegEx will return a 'match object' which is why we are calling it 'mo'\n",
    "mo = phoneNumRegex.search(message)\n",
    "print(mo.group())\n",
    "print(mo)"
   ]
  },
  {
   "cell_type": "code",
   "execution_count": null,
   "metadata": {},
   "outputs": [
    {
     "name": "stdout",
     "output_type": "stream",
     "text": [
      "['415-555-1012', '015-555-9999']\n"
     ]
    }
   ],
   "source": [
    "import re\n",
    "phoneNumRegex = re.compile(r'\\d\\d\\d-\\d\\d\\d-\\d\\d\\d\\d')\n",
    "#RegEx will return a 'match object' which is why we are calling it 'mo'\n",
    "mo = phoneNumRegex.findall('Call me at 415-555-1012 tomorrow, or ar 015-555-9999 at the office')\n",
    "print(mo)"
   ]
  },
  {
   "cell_type": "code",
   "execution_count": null,
   "metadata": {},
   "outputs": [
    {
     "name": "stdout",
     "output_type": "stream",
     "text": [
      "['415-555-1012', '015-555-9999']\n"
     ]
    }
   ],
   "source": [
    "import re\n",
    "phoneNumRegex = re.compile(r'\\d\\d\\d-\\d\\d\\d-\\d\\d\\d\\d')\n",
    "print(phoneNumRegex.findall('Call me at 415-555-1012 tomorrow, or ar 015-555-9999 at the office'))"
   ]
  },
  {
   "cell_type": "markdown",
   "metadata": {},
   "source": [
    "\n",
    "\n",
    "RegEx Overview summary\n",
    "\n",
    "![](.\\images\\RegEx_Overview.png)\n",
    "\n",
    "Or just use \"findall\" instead of \"search\" to get all the match groups as a list right away"
   ]
  },
  {
   "cell_type": "code",
   "execution_count": null,
   "metadata": {},
   "outputs": [
    {
     "data": {
      "text/plain": [
       "<re.Match object; span=(13, 25), match='415-555-4242'>"
      ]
     },
     "execution_count": null,
     "metadata": {},
     "output_type": "execute_result"
    }
   ],
   "source": [
    "import re\n",
    "phoneNumberRegex = re.compile(r'\\d\\d\\d-\\d\\d\\d-\\d\\d\\d\\d')\n",
    "phoneNumberRegex.search('My number is 415-555-4242')"
   ]
  },
  {
   "cell_type": "code",
   "execution_count": null,
   "metadata": {},
   "outputs": [
    {
     "name": "stdout",
     "output_type": "stream",
     "text": [
      "415-555-4242\n"
     ]
    }
   ],
   "source": [
    "mo = phoneNumberRegex.search('My number is 415-555-4242')\n",
    "print(mo.group())"
   ]
  },
  {
   "cell_type": "code",
   "execution_count": null,
   "metadata": {},
   "outputs": [
    {
     "name": "stdout",
     "output_type": "stream",
     "text": [
      "<re.Match object; span=(13, 25), match='415-555-4242'>\n"
     ]
    }
   ],
   "source": [
    "phoneNumberRegex = re.compile(r'(\\d\\d\\d)-(\\d\\d\\d-\\d\\d\\d\\d)')\n",
    "mo = phoneNumberRegex.search('My number is 415-555-4242')\n",
    "print(mo)"
   ]
  },
  {
   "cell_type": "code",
   "execution_count": null,
   "metadata": {},
   "outputs": [
    {
     "data": {
      "text/plain": [
       "'415'"
      ]
     },
     "execution_count": null,
     "metadata": {},
     "output_type": "execute_result"
    }
   ],
   "source": [
    "mo.group(1)"
   ]
  },
  {
   "cell_type": "code",
   "execution_count": null,
   "metadata": {},
   "outputs": [
    {
     "data": {
      "text/plain": [
       "'555-4242'"
      ]
     },
     "execution_count": null,
     "metadata": {},
     "output_type": "execute_result"
    }
   ],
   "source": [
    "mo.group(2)"
   ]
  },
  {
   "cell_type": "code",
   "execution_count": null,
   "metadata": {},
   "outputs": [
    {
     "name": "stdout",
     "output_type": "stream",
     "text": [
      "<re.Match object; span=(13, 27), match='(415) 555-4242'>\n"
     ]
    }
   ],
   "source": [
    "phoneNumberRegex = re.compile(r'\\((\\d\\d\\d)\\) (\\d\\d\\d-\\d\\d\\d\\d)')\n",
    "mo = phoneNumberRegex.search('My number is (415) 555-4242')\n",
    "print(mo)"
   ]
  },
  {
   "cell_type": "code",
   "execution_count": null,
   "metadata": {},
   "outputs": [
    {
     "data": {
      "text/plain": [
       "'555-4242'"
      ]
     },
     "execution_count": null,
     "metadata": {},
     "output_type": "execute_result"
    }
   ],
   "source": [
    "mo.group(2)"
   ]
  },
  {
   "cell_type": "code",
   "execution_count": null,
   "metadata": {},
   "outputs": [
    {
     "data": {
      "text/plain": [
       "'415'"
      ]
     },
     "execution_count": null,
     "metadata": {},
     "output_type": "execute_result"
    }
   ],
   "source": [
    "mo.group(1)"
   ]
  },
  {
   "cell_type": "code",
   "execution_count": null,
   "metadata": {},
   "outputs": [
    {
     "data": {
      "text/plain": [
       "'Batmobile'"
      ]
     },
     "execution_count": null,
     "metadata": {},
     "output_type": "execute_result"
    }
   ],
   "source": [
    "batRegex = re.compile(r'Bat(man|mobile|copter|\\'bat\\')')\n",
    "mo = batRegex.search('Batmobile lost a wheel')\n",
    "mo.group()"
   ]
  },
  {
   "cell_type": "markdown",
   "metadata": {},
   "source": [
    "When Regex object found nothing it will error out saying it only has a 'None' value. That's expected and needs to be handled in the code before calling the .group() method to display the results\n",
    "\n",
    "![](.\\images\\RegEx_catching_None_return_value.png)\n",
    "\n"
   ]
  },
  {
   "cell_type": "code",
   "execution_count": null,
   "metadata": {},
   "outputs": [
    {
     "data": {
      "text/plain": [
       "True"
      ]
     },
     "execution_count": null,
     "metadata": {},
     "output_type": "execute_result"
    }
   ],
   "source": [
    "mo = batRegex.search('Batmotorcycle lost a wheel')\n",
    "mo == None"
   ]
  },
  {
   "cell_type": "code",
   "execution_count": null,
   "metadata": {},
   "outputs": [
    {
     "data": {
      "text/plain": [
       "'mobile'"
      ]
     },
     "execution_count": null,
     "metadata": {},
     "output_type": "execute_result"
    }
   ],
   "source": [
    "batRegex = re.compile(r'Bat(man|mobile|copter|\\'bat\\')')\n",
    "mo = batRegex.search('Batmobile lost a wheel')\n",
    "mo.group(1)"
   ]
  },
  {
   "cell_type": "markdown",
   "metadata": {},
   "source": [
    "\n",
    "\n",
    "![](./images/RegEx_Groups.png)"
   ]
  },
  {
   "cell_type": "code",
   "execution_count": null,
   "metadata": {},
   "outputs": [
    {
     "name": "stdout",
     "output_type": "stream",
     "text": [
      "Batman\nBatman\nBatwoman\n"
     ]
    },
    {
     "data": {
      "text/plain": [
       "True"
      ]
     },
     "execution_count": null,
     "metadata": {},
     "output_type": "execute_result"
    }
   ],
   "source": [
    "import re\n",
    "batRegex = re.compile(r'Batman|Batwomen')\n",
    "# '?' means group can appear 0 or one time\n",
    "batRegexShorter = re.compile(r'Bat(wo)?man')\n",
    "mo = batRegex.search('The Adventures of Batman')\n",
    "mo2 = batRegexShorter.search('The Adventures of Batman')\n",
    "print(mo.group())\n",
    "print(mo2.group())\n",
    "mo2 = batRegexShorter.search('The Adventures of Batwoman')\n",
    "print(mo2.group())\n",
    "mo2 = batRegexShorter.search('The Adventures of Batwowowowoman')\n",
    "mo2 == None"
   ]
  },
  {
   "cell_type": "code",
   "execution_count": null,
   "metadata": {},
   "outputs": [
    {
     "data": {
      "text/plain": [
       "'415-555-1234'"
      ]
     },
     "execution_count": null,
     "metadata": {},
     "output_type": "execute_result"
    }
   ],
   "source": [
    "phoneRegex = re.compile(r'\\d\\d\\d-\\d\\d\\d-\\d\\d\\d\\d')\n",
    "mo = phoneRegex.search('My phone number is 415-555-1234')\n",
    "mo.group()"
   ]
  },
  {
   "cell_type": "code",
   "execution_count": null,
   "metadata": {},
   "outputs": [
    {
     "data": {
      "text/plain": [
       "True"
      ]
     },
     "execution_count": null,
     "metadata": {},
     "output_type": "execute_result"
    }
   ],
   "source": [
    "mo = phoneRegex.search('My phone number is 555-1234')\n",
    "mo == None"
   ]
  },
  {
   "cell_type": "code",
   "execution_count": null,
   "metadata": {},
   "outputs": [
    {
     "data": {
      "text/plain": [
       "'415-555-1234'"
      ]
     },
     "execution_count": null,
     "metadata": {},
     "output_type": "execute_result"
    }
   ],
   "source": [
    "phoneLocalRegex = re.compile(r'(\\d\\d\\d-)?\\d\\d\\d-\\d\\d\\d\\d')\n",
    "mo = phoneLocalRegex.search('My phone number is 415-555-1234')\n",
    "mo.group()"
   ]
  },
  {
   "cell_type": "code",
   "execution_count": null,
   "metadata": {},
   "outputs": [
    {
     "data": {
      "text/plain": [
       "'555-1234'"
      ]
     },
     "execution_count": null,
     "metadata": {},
     "output_type": "execute_result"
    }
   ],
   "source": [
    "mo2 = phoneLocalRegex.search('My phone number is 555-1234')\n",
    "mo2.group()"
   ]
  },
  {
   "cell_type": "code",
   "execution_count": null,
   "metadata": {},
   "outputs": [
    {
     "data": {
      "text/plain": [
       "<re.Match object; span=(18, 24), match='Batman'>"
      ]
     },
     "execution_count": null,
     "metadata": {},
     "output_type": "execute_result"
    }
   ],
   "source": [
    "batRegex = re.compile(r'Bat(wo)*man')\n",
    "batRegex.search('The Adventures of Batman')"
   ]
  },
  {
   "cell_type": "code",
   "execution_count": null,
   "metadata": {},
   "outputs": [
    {
     "data": {
      "text/plain": [
       "<re.Match object; span=(18, 26), match='Batwoman'>"
      ]
     },
     "execution_count": null,
     "metadata": {},
     "output_type": "execute_result"
    }
   ],
   "source": [
    "batRegex.search('The Adventures of Batwoman')"
   ]
  },
  {
   "cell_type": "code",
   "execution_count": null,
   "metadata": {},
   "outputs": [
    {
     "data": {
      "text/plain": [
       "<re.Match object; span=(18, 34), match='Batwowowowowoman'>"
      ]
     },
     "execution_count": null,
     "metadata": {},
     "output_type": "execute_result"
    }
   ],
   "source": [
    "batRegex.search('The Adventures of Batwowowowowoman')"
   ]
  },
  {
   "cell_type": "code",
   "execution_count": null,
   "metadata": {},
   "outputs": [
    {
     "data": {
      "text/plain": [
       "True"
      ]
     },
     "execution_count": null,
     "metadata": {},
     "output_type": "execute_result"
    }
   ],
   "source": [
    "batRegex = re.compile(r'Bat(wo)+man')\n",
    "mo = batRegex.search('The Adventures of Batman')\n",
    "mo == None"
   ]
  },
  {
   "cell_type": "code",
   "execution_count": null,
   "metadata": {},
   "outputs": [
    {
     "data": {
      "text/plain": [
       "<re.Match object; span=(18, 26), match='Batwoman'>"
      ]
     },
     "execution_count": null,
     "metadata": {},
     "output_type": "execute_result"
    }
   ],
   "source": [
    "batRegex.search('The Adventures of Batwoman')"
   ]
  },
  {
   "cell_type": "code",
   "execution_count": null,
   "metadata": {},
   "outputs": [
    {
     "data": {
      "text/plain": [
       "<re.Match object; span=(18, 32), match='Batwowowowoman'>"
      ]
     },
     "execution_count": null,
     "metadata": {},
     "output_type": "execute_result"
    }
   ],
   "source": [
    "batRegex.search('The Adventures of Batwowowowoman')"
   ]
  },
  {
   "cell_type": "code",
   "execution_count": null,
   "metadata": {},
   "outputs": [
    {
     "data": {
      "text/plain": [
       "<re.Match object; span=(41, 44), match='+*?'>"
      ]
     },
     "execution_count": null,
     "metadata": {},
     "output_type": "execute_result"
    }
   ],
   "source": [
    "regex = re.compile(r'\\+\\*\\?')\n",
    "regex.search('Litteral reserved characters search like +*? without spaces in between!')"
   ]
  },
  {
   "cell_type": "markdown",
   "metadata": {},
   "source": [
    "![](./images/RegEx_greedy_non_greedy.png)"
   ]
  },
  {
   "cell_type": "code",
   "execution_count": null,
   "metadata": {},
   "outputs": [
    {
     "data": {
      "text/plain": [
       "re.compile(r'\\d\\d\\d\\-\\d\\d\\d-\\d\\d\\d\\d', re.UNICODE)"
      ]
     },
     "execution_count": null,
     "metadata": {},
     "output_type": "execute_result"
    }
   ],
   "source": [
    "import re\n",
    "phoneRegex = re.compile(r'\\d\\d\\d\\-\\d\\d\\d-\\d\\d\\d\\d')\n",
    "phoneRegex"
   ]
  },
  {
   "cell_type": "code",
   "execution_count": null,
   "metadata": {},
   "outputs": [
    {
     "data": {
      "text/plain": [
       "['574-631-6039', '773-404-2827']"
      ]
     },
     "execution_count": null,
     "metadata": {},
     "output_type": "execute_result"
    }
   ],
   "source": [
    "message = '''\n",
    "Maria E. Parker\n",
    "Campus Address\tmepnd@nd.edu\tPermanent Address\n",
    "256 Fitzpatrick Hall\t1060 W. Addison St.\n",
    "Notre Dame, IN  46556\tChicago, IL  60613\n",
    "574-631-6039\t773-404-2827\n",
    "\n",
    "\n",
    "OBJECTIVE\tTo obtain a summer internship in Mechanical Engineering.\n",
    "\n",
    "EDUCATION\tUniversity of Notre Dame\n",
    "\tBachelor of Science in Mechanical Engineering\n",
    "\tGPA: 3.1/4.0, to be awarded May 2006\n",
    "\tDean's List:  Spring 2004\n",
    "\n",
    "\tStudy Abroad Program\n",
    "\tLondon, England\n",
    "\n",
    "COURSEWORK\tEngineering Graphics (Pro-E)\tThermodynamics\n",
    "\tMechanical Design\tComputing & Programming\n",
    "\tControl Systems I, II\tHeat Transfer\n",
    "\t\n",
    "\n",
    "COMPUTER\tLanguages:\tFORTRAN, MATLAB, C++\n",
    "SKILLS\n",
    "\tSystems:\tMS-DOS, UNIX, Macintosh, Windows: 9x, XP, 2000, & NT\n",
    "\n",
    "\tSoftware:\tProEngineer Wildfire, AutoCAD, MS Word, MS Excel\n",
    "\n",
    "EXPERIENCE\tAlivaf Technology Corporation, San Antonio, TX, June-September 2004\n",
    "\tEngineering Intern: Design widgets using Pro-Engineer to meet design \n",
    "specifications.  Selected and tested appropriate materials to optimized strength-\n",
    "to-weight ratio.  Tested widgets using IBRAKEM testing apparatus.\n",
    "\n",
    "\tUniversity of Notre Dame, Notre Dame, IN, Fall 2004\n",
    "\tUndergraduate Research Assistant:  Conducted preliminary research on fuel \n",
    "cells.  Assisted in setting up apparatus for rheology experiments using polymers \n",
    "and fiber composites.  Took permeability measurements of deformed fabrics.\n",
    "\n",
    "MEMBERSHIPS\tAmerican Society of Mechanical Engineers (ASME), member, 2004\n",
    "\tTau Beta Pi, Treasurer, 2005\n",
    "\t\tOrganized fundraisers grossing $3,000\n",
    "\tNational Society of Black Engineers, member, 2004\n",
    "\tAssociation for Computing Machinery, member, 2003\n",
    "\n",
    "ACTIVITIES\tRacquetball, jogging, church volunteer, math tutor\n",
    "\n",
    "REFERENCES\tAvailable upon request\n",
    "SAMPLE RESUME\n",
    "\n",
    "\n",
    "'''\n",
    "\n",
    "phoneRegex.findall(message)"
   ]
  },
  {
   "cell_type": "code",
   "execution_count": null,
   "metadata": {},
   "outputs": [
    {
     "data": {
      "text/plain": [
       "<re.Match object; span=(145, 157), match='574-631-6039'>"
      ]
     },
     "execution_count": null,
     "metadata": {},
     "output_type": "execute_result"
    }
   ],
   "source": [
    "phoneRegex.search(message)"
   ]
  },
  {
   "cell_type": "markdown",
   "metadata": {},
   "source": [
    "findall does not return a match object, insteads it returns a list of strings... ...unless you have defined groups in the regex then it returns a list of tuples\n",
    "\n",
    "![](./images/RegEx_findall_does_not_return_match_object_it_returns_a_list_of_strings.png)"
   ]
  },
  {
   "cell_type": "code",
   "execution_count": null,
   "metadata": {},
   "outputs": [
    {
     "data": {
      "text/plain": [
       "[('574', '631-6039'), ('773', '404-2827')]"
      ]
     },
     "execution_count": null,
     "metadata": {},
     "output_type": "execute_result"
    }
   ],
   "source": [
    "import re\n",
    "phoneRegex = re.compile(r'(\\d\\d\\d)-(\\d\\d\\d-\\d\\d\\d\\d)')\n",
    "phoneRegex.findall(message)"
   ]
  },
  {
   "cell_type": "code",
   "execution_count": null,
   "metadata": {},
   "outputs": [
    {
     "data": {
      "text/plain": [
       "[('574-631-6039', '574', '631-6039'), ('773-404-2827', '773', '404-2827')]"
      ]
     },
     "execution_count": null,
     "metadata": {},
     "output_type": "execute_result"
    }
   ],
   "source": [
    "import re\n",
    "# defining a groug containing sub-groups\n",
    "phoneRegex = re.compile(r'((\\d\\d\\d)-(\\d\\d\\d-\\d\\d\\d\\d))')\n",
    "phoneRegex.findall(message)"
   ]
  },
  {
   "cell_type": "markdown",
   "metadata": {},
   "source": [
    "\n",
    "looking at character classes like \\d, but we can create  our own\n",
    "\n"
   ]
  },
  {
   "cell_type": "code",
   "execution_count": null,
   "metadata": {},
   "outputs": [],
   "source": [
    "digitRegex =  re.compile(r'\\d')\n",
    "digitRegexEquivalent = re.compile(r'0|1|2|3|4|5|6|7|8|9')\n"
   ]
  },
  {
   "cell_type": "markdown",
   "metadata": {},
   "source": [
    "![](.\\images\\RegEx_Common_character_classes.png)"
   ]
  },
  {
   "cell_type": "code",
   "execution_count": null,
   "metadata": {},
   "outputs": [],
   "source": [
    "lyrics = \"\"\"12 drummers drumming, 11 pipers piping, 10 lords a leaping,\n",
    "9 ladies dancing, 8 maids a milking, 7 swans a swimming,\n",
    "6 geese a laying, 5 golden rings, 4 calling birds, 3 french hens,\n",
    "2 turtle doves, 1 partridge in a pear tree\"\"\"\n"
   ]
  },
  {
   "cell_type": "code",
   "execution_count": null,
   "metadata": {},
   "outputs": [
    {
     "data": {
      "text/plain": [
       "['12 drummers',\n",
       " '11 pipers',\n",
       " '10 lords',\n",
       " '9 ladies',\n",
       " '8 maids',\n",
       " '7 swans',\n",
       " '6 geese',\n",
       " '5 golden',\n",
       " '4 calling',\n",
       " '3 french',\n",
       " '2 turtle',\n",
       " '1 partridge']"
      ]
     },
     "execution_count": null,
     "metadata": {},
     "output_type": "execute_result"
    }
   ],
   "source": [
    "xmasRegex = re.compile(r'\\d+\\s\\w+')\n",
    "xmasRegex.findall(lyrics)"
   ]
  },
  {
   "cell_type": "code",
   "execution_count": null,
   "metadata": {},
   "outputs": [
    {
     "data": {
      "text/plain": [
       "['o', 'o', 'o', 'e', 'a', 'a', 'o', 'o']"
      ]
     },
     "execution_count": null,
     "metadata": {},
     "output_type": "execute_result"
    }
   ],
   "source": [
    "vowelRegex = re.compile(r'[aeiouAEIOU]') # equivalent to (a|e|i|o|u)\n",
    "vowelRegex.findall('Robocop eats baby food!')"
   ]
  },
  {
   "cell_type": "code",
   "execution_count": null,
   "metadata": {},
   "outputs": [
    {
     "data": {
      "text/plain": [
       "['ea', 'oo']"
      ]
     },
     "execution_count": null,
     "metadata": {},
     "output_type": "execute_result"
    }
   ],
   "source": [
    "doubleVowelRegex = re.compile(r'[aeiouAEIOU]{2}') # equivalent to (a|e|i|o|u)\n",
    "doubleVowelRegex .findall('Robocop eats baby food!')"
   ]
  },
  {
   "cell_type": "code",
   "execution_count": null,
   "metadata": {},
   "outputs": [
    {
     "data": {
      "text/plain": [
       "['R', 'b', 'c', 'p', ' ', 't', 's', ' ', 'b', 'b', 'y', ' ', 'f', 'd', '!']"
      ]
     },
     "execution_count": null,
     "metadata": {},
     "output_type": "execute_result"
    }
   ],
   "source": [
    "consonantsRegex = re.compile(r'[^aeiouAEIOU]') # equivalent to not (a|e|i|o|u)\n",
    "consonantsRegex.findall('Robocop eats baby food!') # it will also capture the spaces and ponctuation..."
   ]
  },
  {
   "cell_type": "markdown",
   "metadata": {},
   "source": [
    "![](./images/RegEx_classes_and_findall.png)"
   ]
  }
 ],
 "metadata": {
  "kernelspec": {
   "display_name": "Python 3.8.5 64-bit (conda)",
   "name": "python385jvsc74a57bd0b3ba2566441a7c06988d0923437866b63cedc61552a5af99d1f4fb67d367b25f"
  }
 },
 "nbformat": 4,
 "nbformat_minor": 2
}
