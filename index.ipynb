{
 "cells": [
  {
   "cell_type": "code",
   "execution_count": null,
   "metadata": {},
   "outputs": [],
   "source": [
    "#hide\n",
    "from your_lib.core import *"
   ]
  },
  {
   "cell_type": "markdown",
   "metadata": {},
   "source": [
    "# tcai_AtBSwPython\n",
    "\n",
    "> Summary description here."
   ]
  },
  {
   "cell_type": "markdown",
   "metadata": {},
   "source": [
    "This file will become your README and also the index of your documentation."
   ]
  },
  {
   "cell_type": "markdown",
   "metadata": {},
   "source": [
    "## Install"
   ]
  },
  {
   "cell_type": "markdown",
   "metadata": {},
   "source": [
    "`pip install tcai_AtBSwPython`  (not ready yet)"
   ]
  },
  {
   "cell_type": "markdown",
   "metadata": {},
   "source": [
    "## How to use"
   ]
  },
  {
   "cell_type": "markdown",
   "metadata": {},
   "source": [
    "Fill me in please! Don't forget code examples:"
   ]
  },
  {
   "cell_type": "code",
   "execution_count": null,
   "metadata": {},
   "outputs": [
    {
     "data": {
      "text/plain": [
       "2"
      ]
     },
     "execution_count": null,
     "metadata": {},
     "output_type": "execute_result"
    }
   ],
   "source": [
    "1+1"
   ]
  },
  {
   "cell_type": "markdown",
   "metadata": {},
   "source": [
    "Microsoft Windows [Version 10.0.19042.867]\n",
    "(c) 2020 Microsoft Corporation. All rights reserved.\n",
    "\n",
    "C:\\Users\\tcailleau\\Documents\\Python\\tcai_AtBSwPython>C:/tools/Anaconda3/Scripts/activate\n",
    "\n",
    "(base) C:\\Users\\tcailleau\\Documents\\Python\\tcai_AtBSwPython>conda activate base\n",
    "\n",
    "(base) C:\\Users\\tcailleau\\Documents\\Python\\tcai_AtBSwPython>conda install -c fastai nbdev\n",
    "Collecting package metadata (current_repodata.json): done\n",
    "Solving environment: done\n",
    "\n",
    "## Package Plan ##\n",
    "\n",
    "  environment location: C:\\tools\\Anaconda3\n",
    "\n",
    "  added / updated specs:\n",
    "    - nbdev\n",
    "\n",
    "\n",
    "The following packages will be downloaded:\n",
    "\n",
    "    package                    |            build\n",
    "    ---------------------------|-----------------\n",
    "    conda-4.10.0               |   py38haa95532_0         2.9 MB\n",
    "    fastcore-1.3.19            |             py_0          46 KB  fastai\n",
    "    fastscript-1.0.0           |                0           9 KB  fastai\n",
    "    nbdev-0.2.40               |     pyh39e3cac_0          50 KB  fastai\n",
    "    ------------------------------------------------------------\n",
    "                                           Total:         3.0 MB\n",
    "\n",
    "The following NEW packages will be INSTALLED:\n",
    "\n",
    "  fastcore           fastai/noarch::fastcore-1.3.19-py_0\n",
    "  fastscript         fastai/noarch::fastscript-1.0.0-0\n",
    "  nbdev              fastai/noarch::nbdev-0.2.40-pyh39e3cac_0\n",
    "\n",
    "The following packages will be UPDATED:\n",
    "\n",
    "  conda                                4.9.2-py38haa95532_0 --> 4.10.0-py38haa95532_0\n",
    "\n",
    "\n",
    "Proceed ([y]/n)? y\n",
    "\n",
    "\n",
    "Downloading and Extracting Packages\n",
    "fastcore-1.3.19      | 46 KB     | ########################################################################################################################################################################### | 100%  \n",
    "conda-4.10.0         | 2.9 MB    | ########################################################################################################################################################################### | 100%  \n",
    "nbdev-0.2.40         | 50 KB     | ########################################################################################################################################################################### | 100%  \n",
    "fastscript-1.0.0     | 9 KB      | ########################################################################################################################################################################### | 100%  \n",
    "Preparing transaction: done\n",
    "Verifying transaction: done\n",
    "Executing transaction: done\n",
    "\n",
    "(base) C:\\Users\\tcailleau\\Documents\\Python\\tcai_AtBSwPython>"
   ]
  }
 ],
 "metadata": {
  "kernelspec": {
   "display_name": "Python 3",
   "language": "python",
   "name": "python3"
  }
 },
 "nbformat": 4,
 "nbformat_minor": 2
}
