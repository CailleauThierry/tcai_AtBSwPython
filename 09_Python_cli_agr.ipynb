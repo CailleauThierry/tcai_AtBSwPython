{
 "cells": [
  {
   "cell_type": "code",
   "execution_count": null,
   "metadata": {},
   "outputs": [],
   "source": [
    "# default_exp python_cli_arguments"
   ]
  },
  {
   "cell_type": "markdown",
   "metadata": {},
   "source": [
    "# Running Python from the Command Line with arguments\n",
    "\n",
    "> Note: Getting practicale"
   ]
  },
  {
   "cell_type": "code",
   "execution_count": null,
   "metadata": {},
   "outputs": [],
   "source": [
    "#hide\n",
    "from nbdev.showdoc import *"
   ]
  },
  {
   "cell_type": "markdown",
   "metadata": {},
   "source": [
    "Python can do more than the \"+\" operator for strings\n"
   ]
  },
  {
   "cell_type": "markdown",
   "metadata": {},
   "source": [
    "'That is Alice's cat'  \n",
    "\n",
    "that does not work with single quotes\n",
    "\n",
    "![](.\\images\\Strings_single_quote.png)"
   ]
  },
  {
   "cell_type": "markdown",
   "metadata": {},
   "source": [
    "First line of all python programs should be a shebang line\n",
    "\n"
   ]
  },
  {
   "cell_type": "code",
   "execution_count": null,
   "metadata": {},
   "outputs": [],
   "source": [
    "#export\n",
    "#! python3\n",
    "import sys\n",
    "print(\"Hello World!\")\n",
    "print(sys.argv)"
   ]
  },
  {
   "cell_type": "markdown",
   "metadata": {},
   "source": [
    "(base) C:\\Users\\tcailleau\\Documents\\Python\\tcai_AtBSwPython\\tcai_AtBSwPython>python python_from_cli.py\n",
    "\n",
    "Hello World!\n",
    "\n",
    "(base) C:\\Users\\tcailleau\\Documents\\Python\\tcai_AtBSwPython\\tcai_AtBSwPython>"
   ]
  },
  {
   "cell_type": "markdown",
   "metadata": {},
   "source": [
    "@python says don't display the whole line, just display the result\n",
    "\n",
    "and %* says to forward any command line arguments to this pyhton program\n",
    "\n",
    "@pythonw would be the windows-less python if you don't need it to display on the CLI\n",
    "\n",
    "Adding the script path to the windows environment variable:\n",
    "\n",
    "C:\\Users\\tcailleau\\Documents\\Python\\tcai_AtBSwPython\\batch"
   ]
  },
  {
   "cell_type": "markdown",
   "metadata": {},
   "source": [
    "Recap\n",
    "\n",
    "![](.\\images\\Python_cli.png)"
   ]
  }
 ],
 "metadata": {
  "kernelspec": {
   "display_name": "Python 3.8.5 64-bit",
   "name": "python385jvsc74a57bd0b3ba2566441a7c06988d0923437866b63cedc61552a5af99d1f4fb67d367b25f"
  }
 },
 "nbformat": 4,
 "nbformat_minor": 2
}
